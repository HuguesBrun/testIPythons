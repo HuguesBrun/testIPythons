{
 "cells": [
  {
   "cell_type": "markdown",
   "metadata": {},
   "source": [
    "<H1> Test efficiency of Single Muon trigger on Double muon event </H1>"
   ]
  },
  {
   "cell_type": "code",
   "execution_count": 1,
   "metadata": {
    "collapsed": false
   },
   "outputs": [
    {
     "name": "stdout",
     "output_type": "stream",
     "text": [
      "Populating the interactive namespace from numpy and matplotlib\n"
     ]
    }
   ],
   "source": [
    "import os, sys, csv, string\n",
    "\n",
    "import numpy as np\n",
    "import scipy as sp\n",
    "import matplotlib.pyplot as plt\n",
    "%pylab inline"
   ]
  },
  {
   "cell_type": "markdown",
   "metadata": {},
   "source": [
    "<H3> Throw toys for the 2 trigger paths </H3>"
   ]
  },
  {
   "cell_type": "code",
   "execution_count": 23,
   "metadata": {
    "collapsed": false
   },
   "outputs": [
    {
     "data": {
      "image/png": "[encoded data removed]",
      "text/plain": [
       "<matplotlib.figure.Figure at 0x111a24da0>"
      ]
     },
     "metadata": {},
     "output_type": "display_data"
    }
   ],
   "source": [
    "trigger1 = np.random.rand(10000000)\n",
    "QbgHist = hist(trigger1,histtype='step',bins=100)"
   ]
  },
  {
   "cell_type": "code",
   "execution_count": 24,
   "metadata": {
    "collapsed": false
   },
   "outputs": [
    {
     "data": {
      "image/png": "[encoded data removed]",
      "text/plain": [
       "<matplotlib.figure.Figure at 0x1102330f0>"
      ]
     },
     "metadata": {},
     "output_type": "display_data"
    }
   ],
   "source": [
    "trigger2 = np.random.rand(10000000)\n",
    "QbgHist = hist(trigger2,histtype='step',bins=100)\n"
   ]
  },
  {
   "cell_type": "code",
   "execution_count": 27,
   "metadata": {
    "collapsed": true
   },
   "outputs": [],
   "source": [
    "trigger3 = np.random.rand(10000000)\n",
    "trigger4 = np.random.rand(10000000)\n",
    "randomChoice = np.random.rand(10000000)\n",
    "\n"
   ]
  },
  {
   "cell_type": "markdown",
   "metadata": {},
   "source": [
    "<H4>Test the efficency of trigger 1 </H4>"
   ]
  },
  {
   "cell_type": "code",
   "execution_count": 5,
   "metadata": {
    "collapsed": false
   },
   "outputs": [
    {
     "name": "stdout",
     "output_type": "stream",
     "text": [
      "0.799784\n"
     ]
    }
   ],
   "source": [
    "passtrigger1=0\n",
    "for i in trigger1:\n",
    "    if (i<0.8): #cut at 0.8 emulate 80% efficiency \n",
    "        passtrigger1 = passtrigger1 + 1\n",
    "\n",
    "efficiency1=passtrigger1/1000000\n",
    "print(efficiency1)"
   ]
  },
  {
   "cell_type": "markdown",
   "metadata": {},
   "source": [
    "<H4>Efficiency of Single Muon path on Double muon events (no correlation) </H4> "
   ]
  },
  {
   "cell_type": "code",
   "execution_count": 6,
   "metadata": {
    "collapsed": false
   },
   "outputs": [
    {
     "name": "stdout",
     "output_type": "stream",
     "text": [
      "0.939958\n"
     ]
    }
   ],
   "source": [
    "passBothTriggers=0\n",
    "passTrigger1=0\n",
    "passTrigger2=0\n",
    "for n in range(0,len(trigger1)-1):\n",
    "    if trigger1[n] <0.7: #70% effic\n",
    "        passTrigger1=1\n",
    "    else:\n",
    "        passTrigger1=0\n",
    "    if trigger2[n] <0.8:\n",
    "        passTrigger2=1\n",
    "    else:\n",
    "        passTrigger2=0\n",
    "   # if passTrigger1:\n",
    "   #     passTrigger2=0\n",
    "    if passTrigger1 or passTrigger2 :\n",
    "        passBothTriggers = passBothTriggers + 1\n",
    "\n",
    "efficiencyBoth=passBothTriggers/1000000\n",
    "print(efficiencyBoth)"
   ]
  },
  {
   "cell_type": "markdown",
   "metadata": {},
   "source": [
    "<H4>Efficiency of Single Muon path on Double muon events </H4> "
   ]
  },
  {
   "cell_type": "code",
   "execution_count": 14,
   "metadata": {
    "collapsed": false
   },
   "outputs": [
    {
     "name": "stdout",
     "output_type": "stream",
     "text": [
      "0.921617 0.000960008854126\n"
     ]
    }
   ],
   "source": [
    "passBothTriggers=0\n",
    "passTrigger1=0\n",
    "passTrigger2=0\n",
    "for n in range(0,len(trigger1)-1):\n",
    "    if trigger1[n] <0.72: #70% effic\n",
    "        passTrigger1=1\n",
    "    else:\n",
    "        passTrigger1=0\n",
    "    if trigger2[n] <0.72:\n",
    "        passTrigger2=1\n",
    "    else:\n",
    "        passTrigger2=0\n",
    "    if passTrigger1: #if path fired then the second cannot be passed \n",
    "        passTrigger2=0 \n",
    "    if passTrigger1 or passTrigger2 :\n",
    "        passBothTriggers = passBothTriggers + 1\n",
    "\n",
    "efficiencyBoth=passBothTriggers/1000000\n",
    "error = sqrt(passBothTriggers)/1000000\n",
    "print(efficiencyBoth, error)"
   ]
  },
  {
   "cell_type": "markdown",
   "metadata": {
    "collapsed": true
   },
   "source": [
    "<h3> Now add HLT ineff in the game <h3>"
   ]
  },
  {
   "cell_type": "code",
   "execution_count": 94,
   "metadata": {
    "collapsed": false
   },
   "outputs": [
    {
     "name": "stdout",
     "output_type": "stream",
     "text": [
      "0.7561773\n",
      "0.4400714\n"
     ]
    }
   ],
   "source": [
    "passBothTriggers=0\n",
    "passOneL1=0\n",
    "passTrigger1L1=0\n",
    "passTrigger1HLT=0\n",
    "passTrigger1=0\n",
    "passTrigger2L1=0\n",
    "passTrigger2HLT=0\n",
    "\n",
    "for n in range(0,10000000):\n",
    "    passTrigger1=0\n",
    "    passTrigger2=0\n",
    "\n",
    "\n",
    "    if trigger1[n] <0.8: #70% effic\n",
    "        passTrigger1L1=1\n",
    "    else:\n",
    "        passTrigger1L1=0\n",
    "    if trigger3[n] <0.9: #70% effic\n",
    "        passTrigger1HLT=1\n",
    "    else:\n",
    "        passTrigger1HLT=0\n",
    "\n",
    "    if trigger2[n] <0.6:\n",
    "        passTrigger2L1=1\n",
    "    else:\n",
    "        passTrigger2L1=0\n",
    "    if trigger4[n] <0.7:\n",
    "        passTrigger2HLT=1\n",
    "    else:\n",
    "        passTrigger2HLT=0\n",
    " #   if(passTrigger1L1):\n",
    " #       passTrigger2L1=0\n",
    "    if (passTrigger1L1 and passTrigger1HLT):\n",
    "        passTrigger1=1\n",
    "    if (passTrigger2L1 and passTrigger2HLT):\n",
    "        passTrigger2=1\n",
    "    if (passTrigger1L1 and passTrigger2L1):\n",
    "        if (randomChoice[n]>0.5):\n",
    "            passTrigger1 = 0\n",
    "        else:\n",
    "            passTrigger2 = 0\n",
    "#    if(passTrigger1L1):\n",
    "#        passTrigger2=0\n",
    "    if (passTrigger1L1 and not passTrigger2L1) or (not passTrigger1L1 and passTrigger2L1):\n",
    "         passOneL1 = passOneL1 +1\n",
    "    if passTrigger1 or passTrigger2 :\n",
    "        passBothTriggers = passBothTriggers + 1\n",
    "#    if not (passTrigger1 or passTrigger2):\n",
    "#        print(\"L1\",passTrigger1L1,passTrigger2L1)\n",
    "#        print(\"HLT\",passTrigger1HLT,passTrigger2HLT)\n",
    "#        print(\"path\",passTrigger1,passTrigger2)\n",
    "\n",
    "\n",
    "\n",
    "efficiencyBoth=passBothTriggers/10000000\n",
    "efficiencyOneL1 = passOneL1/10000000\n",
    "print(efficiencyBoth)\n",
    "print(efficiencyOneL1)"
   ]
  },
  {
   "cell_type": "code",
   "execution_count": 84,
   "metadata": {
    "collapsed": false
   },
   "outputs": [
    {
     "data": {
      "text/plain": [
       "0.8376"
      ]
     },
     "execution_count": 84,
     "metadata": {},
     "output_type": "execute_result"
    }
   ],
   "source": [
    "1-(1-0.8*0.9)*(1-0.6*0.7)"
   ]
  },
  {
   "cell_type": "code",
   "execution_count": 77,
   "metadata": {
    "collapsed": false
   },
   "outputs": [
    {
     "data": {
      "text/plain": [
       "0.8640000000000001"
      ]
     },
     "execution_count": 77,
     "metadata": {},
     "output_type": "execute_result"
    }
   ],
   "source": [
    "0.8*0.9*(2-0.8)"
   ]
  },
  {
   "cell_type": "code",
   "execution_count": 93,
   "metadata": {
    "collapsed": false
   },
   "outputs": [
    {
     "data": {
      "text/plain": [
       "0.7560000000000001"
      ]
     },
     "execution_count": 93,
     "metadata": {},
     "output_type": "execute_result"
    }
   ],
   "source": [
    "0.6*0.7+0.8*0.9-0.5*(0.6*0.7*0.8+0.8*0.9*0.6)"
   ]
  },
  {
   "cell_type": "code",
   "execution_count": 70,
   "metadata": {
    "collapsed": false
   },
   "outputs": [
    {
     "name": "stdout",
     "output_type": "stream",
     "text": [
      "999985 2799979\n",
      "0.3571401785513391\n"
     ]
    }
   ],
   "source": [
    "nExp=0\n",
    "nFailHLT=0\n",
    "for n in range(0,len(trigger1)-1):\n",
    "    passL1=0\n",
    "    passHLT=0\n",
    "    passTrigger=0\n",
    "    if (trigger1[n] <0.8):\n",
    "        passL1 = 1\n",
    "    if (trigger2[n] <0.9):\n",
    "        passHLT = 1\n",
    "    if (passL1 and passHLT):\n",
    "        passTrigger=1\n",
    "    if (not passTrigger):\n",
    "        nExp = nExp+1\n",
    "        if (not passHLT):\n",
    "            nFailHLT=nFailHLT+1\n",
    "probaHLTfail=1.*nFailHLT/nExp\n",
    "print (nFailHLT,nExp)\n",
    "print(probaHLTfail)\n",
    "            \n"
   ]
  },
  {
   "cell_type": "code",
   "execution_count": 22,
   "metadata": {
    "collapsed": false
   },
   "outputs": [
    {
     "data": {
      "text/plain": [
       "0.35714285714285715"
      ]
     },
     "execution_count": 22,
     "metadata": {},
     "output_type": "execute_result"
    }
   ],
   "source": [
    "(1-0.9)/(1-0.8*0.9)"
   ]
  },
  {
   "cell_type": "code",
   "execution_count": 66,
   "metadata": {
    "collapsed": false
   },
   "outputs": [
    {
     "data": {
      "text/plain": [
       "0.8448"
      ]
     },
     "execution_count": 66,
     "metadata": {},
     "output_type": "execute_result"
    }
   ],
   "source": [
    "1-((1-0.8)*(1-0.8)+2*0.8*0.8*(1-0.9)*0.9)"
   ]
  },
  {
   "cell_type": "code",
   "execution_count": 68,
   "metadata": {
    "collapsed": false
   },
   "outputs": [
    {
     "data": {
      "text/plain": [
       "0.32000000000000006"
      ]
     },
     "execution_count": 68,
     "metadata": {},
     "output_type": "execute_result"
    }
   ],
   "source": [
    "2*0.8*0.2"
   ]
  },
  {
   "cell_type": "code",
   "execution_count": null,
   "metadata": {
    "collapsed": true
   },
   "outputs": [],
   "source": []
  }
 ],
 "metadata": {
  "anaconda-cloud": {},
  "kernelspec": {
   "display_name": "Python [Root]",
   "language": "python",
   "name": "Python [Root]"
  },
  "language_info": {
   "codemirror_mode": {
    "name": "ipython",
    "version": 3
   },
   "file_extension": ".py",
   "mimetype": "text/x-python",
   "name": "python",
   "nbconvert_exporter": "python",
   "pygments_lexer": "ipython3",
   "version": "3.5.2"
  }
 },
 "nbformat": 4,
 "nbformat_minor": 0
}
