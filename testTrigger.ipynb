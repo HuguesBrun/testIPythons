{
 "cells": [
  {
   "cell_type": "markdown",
   "metadata": {},
   "source": [
    "<H1> Test efficiency of Single Muon trigger on Double muon event </H1>"
   ]
  },
  {
   "cell_type": "code",
   "execution_count": null,
   "metadata": {
    "collapsed": true
   },
   "outputs": [],
   "source": [
    "import os, sys, csv, string\n",
    "\n",
    "import numpy as np\n",
    "import scipy as sp\n",
    "import matplotlib.pyplot as plt\n",
    "%pylab inline"
   ]
  },
  {
   "cell_type": "markdown",
   "metadata": {},
   "source": [
    "<H3> Throw toys for the 2 trigger paths </H3>"
   ]
  },
  {
   "cell_type": "code",
   "execution_count": 28,
   "metadata": {
    "collapsed": false
   },
   "outputs": [
    {
     "data": {
      "image/png": "[encoded data removed]",
      "text/plain": [
       "<matplotlib.figure.Figure at 0x10fac7dd8>"
      ]
     },
     "metadata": {},
     "output_type": "display_data"
    }
   ],
   "source": [
    "trigger1 = np.random.rand(1000000)\n",
    "QbgHist = hist(trigger1,histtype='step',bins=100)"
   ]
  },
  {
   "cell_type": "code",
   "execution_count": 29,
   "metadata": {
    "collapsed": false
   },
   "outputs": [
    {
     "data": {
      "image/png": "[encoded data removed]",
      "text/plain": [
       "<matplotlib.figure.Figure at 0x10fa190b8>"
      ]
     },
     "metadata": {},
     "output_type": "display_data"
    }
   ],
   "source": [
    "trigger2 = np.random.rand(1000000)\n",
    "QbgHist = hist(trigger2,histtype='step',bins=100)"
   ]
  },
  {
   "cell_type": "markdown",
   "metadata": {},
   "source": [
    "<H4>Test the efficency of trigger 1 </H4>"
   ]
  },
  {
   "cell_type": "code",
   "execution_count": 30,
   "metadata": {
    "collapsed": false
   },
   "outputs": [
    {
     "name": "stdout",
     "output_type": "stream",
     "text": [
      "0.799748\n"
     ]
    }
   ],
   "source": [
    "passtrigger1=0\n",
    "for i in trigger1:\n",
    "    if (i<0.8): #cut at 0.8 emulate 80% efficiency \n",
    "        passtrigger1 = passtrigger1 + 1\n",
    "\n",
    "efficiency1=passtrigger1/1000000\n",
    "print(efficiency1)"
   ]
  },
  {
   "cell_type": "markdown",
   "metadata": {},
   "source": [
    "<H4>Efficiency of Single Muon path on Double muon events (no correlation) </H4> "
   ]
  },
  {
   "cell_type": "code",
   "execution_count": 31,
   "metadata": {
    "collapsed": false
   },
   "outputs": [
    {
     "name": "stdout",
     "output_type": "stream",
     "text": [
      "0.940256\n"
     ]
    }
   ],
   "source": [
    "passBothTriggers=0\n",
    "passTrigger1=0\n",
    "passTrigger2=0\n",
    "for n in range(0,len(trigger1)-1):\n",
    "    if trigger1[n] <0.7: #70% effic\n",
    "        passTrigger1=1\n",
    "    else:\n",
    "        passTrigger1=0\n",
    "    if trigger2[n] <0.8:\n",
    "        passTrigger2=1\n",
    "    else:\n",
    "        passTrigger2=0\n",
    "   # if passTrigger1:\n",
    "   #     passTrigger2=0\n",
    "    if passTrigger1 or passTrigger2 :\n",
    "        passBothTriggers = passBothTriggers + 1\n",
    "\n",
    "efficiencyBoth=passBothTriggers/1000000\n",
    "print(efficiencyBoth)"
   ]
  },
  {
   "cell_type": "markdown",
   "metadata": {},
   "source": [
    "<H4>Efficiency of Single Muon path on Double muon events </H4> "
   ]
  },
  {
   "cell_type": "code",
   "execution_count": 33,
   "metadata": {
    "collapsed": false
   },
   "outputs": [
    {
     "name": "stdout",
     "output_type": "stream",
     "text": [
      "0.940256\n"
     ]
    }
   ],
   "source": [
    "passBothTriggers=0\n",
    "passTrigger1=0\n",
    "passTrigger2=0\n",
    "for n in range(0,len(trigger1)-1):\n",
    "    if trigger1[n] <0.7: #70% effic\n",
    "        passTrigger1=1\n",
    "    else:\n",
    "        passTrigger1=0\n",
    "    if trigger2[n] <0.8:\n",
    "        passTrigger2=1\n",
    "    else:\n",
    "        passTrigger2=0\n",
    "    if passTrigger1: #if path fired then the second cannot be passed \n",
    "        passTrigger2=0 \n",
    "    if passTrigger1 or passTrigger2 :\n",
    "        passBothTriggers = passBothTriggers + 1\n",
    "\n",
    "efficiencyBoth=passBothTriggers/1000000\n",
    "print(efficiencyBoth)"
   ]
  },
  {
   "cell_type": "code",
   "execution_count": null,
   "metadata": {
    "collapsed": true
   },
   "outputs": [],
   "source": []
  }
 ],
 "metadata": {
  "kernelspec": {
   "display_name": "Python [Root]",
   "language": "python",
   "name": "Python [Root]"
  },
  "language_info": {
   "codemirror_mode": {
    "name": "ipython",
    "version": 3
   },
   "file_extension": ".py",
   "mimetype": "text/x-python",
   "name": "python",
   "nbconvert_exporter": "python",
   "pygments_lexer": "ipython3",
   "version": "3.5.2"
  }
 },
 "nbformat": 4,
 "nbformat_minor": 0
}
